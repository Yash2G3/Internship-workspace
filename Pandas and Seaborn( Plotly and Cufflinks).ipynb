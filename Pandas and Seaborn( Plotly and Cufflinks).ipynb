{
 "cells": [
  {
   "cell_type": "markdown",
   "id": "850c4dd5",
   "metadata": {},
   "source": [
    "# Using plotly with pandas\n",
    "\n",
    "plotly is a data visulisation library too that works with pandas\n",
    "\n",
    "it requires another library called cufflinks to attach the latter 2 along"
   ]
  },
  {
   "cell_type": "code",
   "execution_count": 1,
   "id": "0db43ae4",
   "metadata": {},
   "outputs": [
    {
     "name": "stdout",
     "output_type": "stream",
     "text": [
      "Requirement already satisfied: chart-studio in c:\\users\\yashv\\anaconda3\\lib\\site-packages (1.1.0)\n",
      "Requirement already satisfied: requests in c:\\users\\yashv\\anaconda3\\lib\\site-packages (from chart-studio) (2.27.1)\n",
      "Requirement already satisfied: six in c:\\users\\yashv\\anaconda3\\lib\\site-packages (from chart-studio) (1.16.0)\n",
      "Requirement already satisfied: plotly in c:\\users\\yashv\\anaconda3\\lib\\site-packages (from chart-studio) (5.10.0)\n",
      "Requirement already satisfied: retrying>=1.3.3 in c:\\users\\yashv\\anaconda3\\lib\\site-packages (from chart-studio) (1.3.3)\n",
      "Requirement already satisfied: tenacity>=6.2.0 in c:\\users\\yashv\\anaconda3\\lib\\site-packages (from plotly->chart-studio) (8.0.1)\n",
      "Requirement already satisfied: charset-normalizer~=2.0.0 in c:\\users\\yashv\\anaconda3\\lib\\site-packages (from requests->chart-studio) (2.0.4)\n",
      "Requirement already satisfied: idna<4,>=2.5 in c:\\users\\yashv\\anaconda3\\lib\\site-packages (from requests->chart-studio) (3.3)\n",
      "Requirement already satisfied: urllib3<1.27,>=1.21.1 in c:\\users\\yashv\\anaconda3\\lib\\site-packages (from requests->chart-studio) (1.26.9)\n",
      "Requirement already satisfied: certifi>=2017.4.17 in c:\\users\\yashv\\anaconda3\\lib\\site-packages (from requests->chart-studio) (2021.10.8)\n",
      "Note: you may need to restart the kernel to use updated packages.\n"
     ]
    }
   ],
   "source": [
    "pip install chart-studio"
   ]
  },
  {
   "cell_type": "code",
   "execution_count": 2,
   "id": "d88aa596",
   "metadata": {},
   "outputs": [],
   "source": [
    "import chart_studio.plotly as py"
   ]
  },
  {
   "cell_type": "code",
   "execution_count": 3,
   "id": "57fbf967",
   "metadata": {},
   "outputs": [
    {
     "name": "stdout",
     "output_type": "stream",
     "text": [
      "Requirement already satisfied: cufflinks in c:\\users\\yashv\\anaconda3\\lib\\site-packages (0.17.3)\n",
      "Requirement already satisfied: setuptools>=34.4.1 in c:\\users\\yashv\\anaconda3\\lib\\site-packages (from cufflinks) (61.2.0)\n",
      "Requirement already satisfied: pandas>=0.19.2 in c:\\users\\yashv\\anaconda3\\lib\\site-packages (from cufflinks) (1.4.2)\n",
      "Requirement already satisfied: ipywidgets>=7.0.0 in c:\\users\\yashv\\anaconda3\\lib\\site-packages (from cufflinks) (7.6.5)\n",
      "Requirement already satisfied: numpy>=1.9.2 in c:\\users\\yashv\\anaconda3\\lib\\site-packages (from cufflinks) (1.21.5)\n",
      "Requirement already satisfied: colorlover>=0.2.1 in c:\\users\\yashv\\anaconda3\\lib\\site-packages (from cufflinks) (0.3.0)\n",
      "Requirement already satisfied: plotly>=4.1.1 in c:\\users\\yashv\\anaconda3\\lib\\site-packages (from cufflinks) (5.10.0)\n",
      "Requirement already satisfied: ipython>=5.3.0 in c:\\users\\yashv\\anaconda3\\lib\\site-packages (from cufflinks) (8.2.0)\n",
      "Requirement already satisfied: six>=1.9.0 in c:\\users\\yashv\\anaconda3\\lib\\site-packages (from cufflinks) (1.16.0)\n",
      "Requirement already satisfied: decorator in c:\\users\\yashv\\anaconda3\\lib\\site-packages (from ipython>=5.3.0->cufflinks) (5.1.1)\n",
      "Requirement already satisfied: pygments>=2.4.0 in c:\\users\\yashv\\anaconda3\\lib\\site-packages (from ipython>=5.3.0->cufflinks) (2.11.2)\n",
      "Requirement already satisfied: colorama in c:\\users\\yashv\\anaconda3\\lib\\site-packages (from ipython>=5.3.0->cufflinks) (0.4.4)\n",
      "Requirement already satisfied: matplotlib-inline in c:\\users\\yashv\\anaconda3\\lib\\site-packages (from ipython>=5.3.0->cufflinks) (0.1.2)\n",
      "Requirement already satisfied: traitlets>=5 in c:\\users\\yashv\\anaconda3\\lib\\site-packages (from ipython>=5.3.0->cufflinks) (5.1.1)\n",
      "Requirement already satisfied: pickleshare in c:\\users\\yashv\\anaconda3\\lib\\site-packages (from ipython>=5.3.0->cufflinks) (0.7.5)\n",
      "Requirement already satisfied: stack-data in c:\\users\\yashv\\anaconda3\\lib\\site-packages (from ipython>=5.3.0->cufflinks) (0.2.0)\n",
      "Requirement already satisfied: backcall in c:\\users\\yashv\\anaconda3\\lib\\site-packages (from ipython>=5.3.0->cufflinks) (0.2.0)\n",
      "Requirement already satisfied: prompt-toolkit!=3.0.0,!=3.0.1,<3.1.0,>=2.0.0 in c:\\users\\yashv\\anaconda3\\lib\\site-packages (from ipython>=5.3.0->cufflinks) (3.0.20)\n",
      "Requirement already satisfied: jedi>=0.16 in c:\\users\\yashv\\anaconda3\\lib\\site-packages (from ipython>=5.3.0->cufflinks) (0.18.1)\n",
      "Requirement already satisfied: nbformat>=4.2.0 in c:\\users\\yashv\\anaconda3\\lib\\site-packages (from ipywidgets>=7.0.0->cufflinks) (5.3.0)\n",
      "Requirement already satisfied: widgetsnbextension~=3.5.0 in c:\\users\\yashv\\anaconda3\\lib\\site-packages (from ipywidgets>=7.0.0->cufflinks) (3.5.2)\n",
      "Requirement already satisfied: ipykernel>=4.5.1 in c:\\users\\yashv\\anaconda3\\lib\\site-packages (from ipywidgets>=7.0.0->cufflinks) (6.9.1)\n",
      "Requirement already satisfied: ipython-genutils~=0.2.0 in c:\\users\\yashv\\anaconda3\\lib\\site-packages (from ipywidgets>=7.0.0->cufflinks) (0.2.0)\n",
      "Requirement already satisfied: jupyterlab-widgets>=1.0.0 in c:\\users\\yashv\\anaconda3\\lib\\site-packages (from ipywidgets>=7.0.0->cufflinks) (1.0.0)\n",
      "Requirement already satisfied: nest-asyncio in c:\\users\\yashv\\anaconda3\\lib\\site-packages (from ipykernel>=4.5.1->ipywidgets>=7.0.0->cufflinks) (1.5.5)\n",
      "Requirement already satisfied: tornado<7.0,>=4.2 in c:\\users\\yashv\\anaconda3\\lib\\site-packages (from ipykernel>=4.5.1->ipywidgets>=7.0.0->cufflinks) (6.1)\n",
      "Requirement already satisfied: jupyter-client<8.0 in c:\\users\\yashv\\anaconda3\\lib\\site-packages (from ipykernel>=4.5.1->ipywidgets>=7.0.0->cufflinks) (6.1.12)\n",
      "Requirement already satisfied: debugpy<2.0,>=1.0.0 in c:\\users\\yashv\\anaconda3\\lib\\site-packages (from ipykernel>=4.5.1->ipywidgets>=7.0.0->cufflinks) (1.5.1)\n",
      "Requirement already satisfied: parso<0.9.0,>=0.8.0 in c:\\users\\yashv\\anaconda3\\lib\\site-packages (from jedi>=0.16->ipython>=5.3.0->cufflinks) (0.8.3)\n",
      "Requirement already satisfied: jupyter-core>=4.6.0 in c:\\users\\yashv\\anaconda3\\lib\\site-packages (from jupyter-client<8.0->ipykernel>=4.5.1->ipywidgets>=7.0.0->cufflinks) (4.9.2)\n",
      "Requirement already satisfied: python-dateutil>=2.1 in c:\\users\\yashv\\anaconda3\\lib\\site-packages (from jupyter-client<8.0->ipykernel>=4.5.1->ipywidgets>=7.0.0->cufflinks) (2.8.2)\n",
      "Requirement already satisfied: pyzmq>=13 in c:\\users\\yashv\\anaconda3\\lib\\site-packages (from jupyter-client<8.0->ipykernel>=4.5.1->ipywidgets>=7.0.0->cufflinks) (22.3.0)\n",
      "Requirement already satisfied: pywin32>=1.0 in c:\\users\\yashv\\anaconda3\\lib\\site-packages (from jupyter-core>=4.6.0->jupyter-client<8.0->ipykernel>=4.5.1->ipywidgets>=7.0.0->cufflinks) (302)\n",
      "Requirement already satisfied: fastjsonschema in c:\\users\\yashv\\anaconda3\\lib\\site-packages (from nbformat>=4.2.0->ipywidgets>=7.0.0->cufflinks) (2.15.1)\n",
      "Requirement already satisfied: jsonschema>=2.6 in c:\\users\\yashv\\anaconda3\\lib\\site-packages (from nbformat>=4.2.0->ipywidgets>=7.0.0->cufflinks) (4.4.0)\n",
      "Requirement already satisfied: pyrsistent!=0.17.0,!=0.17.1,!=0.17.2,>=0.14.0 in c:\\users\\yashv\\anaconda3\\lib\\site-packages (from jsonschema>=2.6->nbformat>=4.2.0->ipywidgets>=7.0.0->cufflinks) (0.18.0)\n",
      "Requirement already satisfied: attrs>=17.4.0 in c:\\users\\yashv\\anaconda3\\lib\\site-packages (from jsonschema>=2.6->nbformat>=4.2.0->ipywidgets>=7.0.0->cufflinks) (21.4.0)\n",
      "Requirement already satisfied: pytz>=2020.1 in c:\\users\\yashv\\anaconda3\\lib\\site-packages (from pandas>=0.19.2->cufflinks) (2021.3)\n",
      "Requirement already satisfied: tenacity>=6.2.0 in c:\\users\\yashv\\anaconda3\\lib\\site-packages (from plotly>=4.1.1->cufflinks) (8.0.1)\n",
      "Requirement already satisfied: wcwidth in c:\\users\\yashv\\anaconda3\\lib\\site-packages (from prompt-toolkit!=3.0.0,!=3.0.1,<3.1.0,>=2.0.0->ipython>=5.3.0->cufflinks) (0.2.5)\n",
      "Requirement already satisfied: notebook>=4.4.1 in c:\\users\\yashv\\anaconda3\\lib\\site-packages (from widgetsnbextension~=3.5.0->ipywidgets>=7.0.0->cufflinks) (6.4.8)\n",
      "Requirement already satisfied: nbconvert in c:\\users\\yashv\\anaconda3\\lib\\site-packages (from notebook>=4.4.1->widgetsnbextension~=3.5.0->ipywidgets>=7.0.0->cufflinks) (6.4.4)\n",
      "Requirement already satisfied: Send2Trash>=1.8.0 in c:\\users\\yashv\\anaconda3\\lib\\site-packages (from notebook>=4.4.1->widgetsnbextension~=3.5.0->ipywidgets>=7.0.0->cufflinks) (1.8.0)\n",
      "Requirement already satisfied: terminado>=0.8.3 in c:\\users\\yashv\\anaconda3\\lib\\site-packages (from notebook>=4.4.1->widgetsnbextension~=3.5.0->ipywidgets>=7.0.0->cufflinks) (0.13.1)\n",
      "Requirement already satisfied: jinja2 in c:\\users\\yashv\\anaconda3\\lib\\site-packages (from notebook>=4.4.1->widgetsnbextension~=3.5.0->ipywidgets>=7.0.0->cufflinks) (2.11.3)\n",
      "Requirement already satisfied: prometheus-client in c:\\users\\yashv\\anaconda3\\lib\\site-packages (from notebook>=4.4.1->widgetsnbextension~=3.5.0->ipywidgets>=7.0.0->cufflinks) (0.13.1)\n",
      "Requirement already satisfied: argon2-cffi in c:\\users\\yashv\\anaconda3\\lib\\site-packages (from notebook>=4.4.1->widgetsnbextension~=3.5.0->ipywidgets>=7.0.0->cufflinks) (21.3.0)\n",
      "Requirement already satisfied: pywinpty>=1.1.0 in c:\\users\\yashv\\anaconda3\\lib\\site-packages (from terminado>=0.8.3->notebook>=4.4.1->widgetsnbextension~=3.5.0->ipywidgets>=7.0.0->cufflinks) (2.0.2)\n",
      "Requirement already satisfied: argon2-cffi-bindings in c:\\users\\yashv\\anaconda3\\lib\\site-packages (from argon2-cffi->notebook>=4.4.1->widgetsnbextension~=3.5.0->ipywidgets>=7.0.0->cufflinks) (21.2.0)\n",
      "Requirement already satisfied: cffi>=1.0.1 in c:\\users\\yashv\\anaconda3\\lib\\site-packages (from argon2-cffi-bindings->argon2-cffi->notebook>=4.4.1->widgetsnbextension~=3.5.0->ipywidgets>=7.0.0->cufflinks) (1.15.0)\n",
      "Requirement already satisfied: pycparser in c:\\users\\yashv\\anaconda3\\lib\\site-packages (from cffi>=1.0.1->argon2-cffi-bindings->argon2-cffi->notebook>=4.4.1->widgetsnbextension~=3.5.0->ipywidgets>=7.0.0->cufflinks) (2.21)\n",
      "Requirement already satisfied: MarkupSafe>=0.23 in c:\\users\\yashv\\anaconda3\\lib\\site-packages (from jinja2->notebook>=4.4.1->widgetsnbextension~=3.5.0->ipywidgets>=7.0.0->cufflinks) (2.0.1)\n",
      "Requirement already satisfied: testpath in c:\\users\\yashv\\anaconda3\\lib\\site-packages (from nbconvert->notebook>=4.4.1->widgetsnbextension~=3.5.0->ipywidgets>=7.0.0->cufflinks) (0.5.0)\n",
      "Requirement already satisfied: mistune<2,>=0.8.1 in c:\\users\\yashv\\anaconda3\\lib\\site-packages (from nbconvert->notebook>=4.4.1->widgetsnbextension~=3.5.0->ipywidgets>=7.0.0->cufflinks) (0.8.4)\n",
      "Requirement already satisfied: jupyterlab-pygments in c:\\users\\yashv\\anaconda3\\lib\\site-packages (from nbconvert->notebook>=4.4.1->widgetsnbextension~=3.5.0->ipywidgets>=7.0.0->cufflinks) (0.1.2)\n",
      "Requirement already satisfied: bleach in c:\\users\\yashv\\anaconda3\\lib\\site-packages (from nbconvert->notebook>=4.4.1->widgetsnbextension~=3.5.0->ipywidgets>=7.0.0->cufflinks) (4.1.0)\n",
      "Requirement already satisfied: pandocfilters>=1.4.1 in c:\\users\\yashv\\anaconda3\\lib\\site-packages (from nbconvert->notebook>=4.4.1->widgetsnbextension~=3.5.0->ipywidgets>=7.0.0->cufflinks) (1.5.0)\n",
      "Requirement already satisfied: defusedxml in c:\\users\\yashv\\anaconda3\\lib\\site-packages (from nbconvert->notebook>=4.4.1->widgetsnbextension~=3.5.0->ipywidgets>=7.0.0->cufflinks) (0.7.1)\n",
      "Requirement already satisfied: beautifulsoup4 in c:\\users\\yashv\\anaconda3\\lib\\site-packages (from nbconvert->notebook>=4.4.1->widgetsnbextension~=3.5.0->ipywidgets>=7.0.0->cufflinks) (4.11.1)\n",
      "Requirement already satisfied: entrypoints>=0.2.2 in c:\\users\\yashv\\anaconda3\\lib\\site-packages (from nbconvert->notebook>=4.4.1->widgetsnbextension~=3.5.0->ipywidgets>=7.0.0->cufflinks) (0.4)\n",
      "Requirement already satisfied: nbclient<0.6.0,>=0.5.0 in c:\\users\\yashv\\anaconda3\\lib\\site-packages (from nbconvert->notebook>=4.4.1->widgetsnbextension~=3.5.0->ipywidgets>=7.0.0->cufflinks) (0.5.13)\n",
      "Requirement already satisfied: soupsieve>1.2 in c:\\users\\yashv\\anaconda3\\lib\\site-packages (from beautifulsoup4->nbconvert->notebook>=4.4.1->widgetsnbextension~=3.5.0->ipywidgets>=7.0.0->cufflinks) (2.3.1)\n",
      "Requirement already satisfied: packaging in c:\\users\\yashv\\anaconda3\\lib\\site-packages (from bleach->nbconvert->notebook>=4.4.1->widgetsnbextension~=3.5.0->ipywidgets>=7.0.0->cufflinks) (21.3)\n",
      "Requirement already satisfied: webencodings in c:\\users\\yashv\\anaconda3\\lib\\site-packages (from bleach->nbconvert->notebook>=4.4.1->widgetsnbextension~=3.5.0->ipywidgets>=7.0.0->cufflinks) (0.5.1)\n",
      "Requirement already satisfied: pyparsing!=3.0.5,>=2.0.2 in c:\\users\\yashv\\anaconda3\\lib\\site-packages (from packaging->bleach->nbconvert->notebook>=4.4.1->widgetsnbextension~=3.5.0->ipywidgets>=7.0.0->cufflinks) (3.0.4)\n",
      "Requirement already satisfied: executing in c:\\users\\yashv\\anaconda3\\lib\\site-packages (from stack-data->ipython>=5.3.0->cufflinks) (0.8.3)\n",
      "Requirement already satisfied: asttokens in c:\\users\\yashv\\anaconda3\\lib\\site-packages (from stack-data->ipython>=5.3.0->cufflinks) (2.0.5)\n",
      "Requirement already satisfied: pure-eval in c:\\users\\yashv\\anaconda3\\lib\\site-packages (from stack-data->ipython>=5.3.0->cufflinks) (0.2.2)\n",
      "Note: you may need to restart the kernel to use updated packages.\n"
     ]
    }
   ],
   "source": [
    "pip install cufflinks"
   ]
  },
  {
   "cell_type": "code",
   "execution_count": 4,
   "id": "eef1ee06",
   "metadata": {},
   "outputs": [],
   "source": [
    "import numpy as np\n",
    "import pandas as pd\n",
    "%matplotlib inline"
   ]
  },
  {
   "cell_type": "code",
   "execution_count": 5,
   "id": "b90c5ae0",
   "metadata": {},
   "outputs": [],
   "source": [
    "import cufflinks as cf"
   ]
  },
  {
   "cell_type": "code",
   "execution_count": 6,
   "id": "2bae4962",
   "metadata": {},
   "outputs": [
    {
     "name": "stdout",
     "output_type": "stream",
     "text": [
      "Requirement already satisfied: plotly in c:\\users\\yashv\\anaconda3\\lib\\site-packages (5.10.0)\n",
      "Collecting plotly\n",
      "  Downloading plotly-5.11.0-py2.py3-none-any.whl (15.3 MB)\n",
      "Requirement already satisfied: tenacity>=6.2.0 in c:\\users\\yashv\\anaconda3\\lib\\site-packages (from plotly) (8.0.1)\n",
      "Installing collected packages: plotly\n",
      "  Attempting uninstall: plotly\n",
      "    Found existing installation: plotly 5.10.0\n",
      "    Uninstalling plotly-5.10.0:\n",
      "      Successfully uninstalled plotly-5.10.0\n",
      "Successfully installed plotly-5.11.0\n",
      "Note: you may need to restart the kernel to use updated packages.\n"
     ]
    }
   ],
   "source": [
    "pip install --upgrade plotly "
   ]
  },
  {
   "cell_type": "code",
   "execution_count": 7,
   "id": "23053ccf",
   "metadata": {},
   "outputs": [],
   "source": [
    "from plotly.offline import download_plotlyjs,init_notebook_mode,plot,iplot"
   ]
  },
  {
   "cell_type": "code",
   "execution_count": 8,
   "id": "5998aedf",
   "metadata": {},
   "outputs": [
    {
     "data": {
      "text/html": [
       "        <script type=\"text/javascript\">\n",
       "        window.PlotlyConfig = {MathJaxConfig: 'local'};\n",
       "        if (window.MathJax && window.MathJax.Hub && window.MathJax.Hub.Config) {window.MathJax.Hub.Config({SVG: {font: \"STIX-Web\"}});}\n",
       "        if (typeof require !== 'undefined') {\n",
       "        require.undef(\"plotly\");\n",
       "        requirejs.config({\n",
       "            paths: {\n",
       "                'plotly': ['https://cdn.plot.ly/plotly-2.14.0.min']\n",
       "            }\n",
       "        });\n",
       "        require(['plotly'], function(Plotly) {\n",
       "            window._Plotly = Plotly;\n",
       "        });\n",
       "        }\n",
       "        </script>\n",
       "        "
      ]
     },
     "metadata": {},
     "output_type": "display_data"
    }
   ],
   "source": [
    "init_notebook_mode(connected=True)"
   ]
  },
  {
   "cell_type": "code",
   "execution_count": 9,
   "id": "aa8bc26a",
   "metadata": {},
   "outputs": [
    {
     "data": {
      "text/html": [
       "        <script type=\"text/javascript\">\n",
       "        window.PlotlyConfig = {MathJaxConfig: 'local'};\n",
       "        if (window.MathJax && window.MathJax.Hub && window.MathJax.Hub.Config) {window.MathJax.Hub.Config({SVG: {font: \"STIX-Web\"}});}\n",
       "        if (typeof require !== 'undefined') {\n",
       "        require.undef(\"plotly\");\n",
       "        requirejs.config({\n",
       "            paths: {\n",
       "                'plotly': ['https://cdn.plot.ly/plotly-2.14.0.min']\n",
       "            }\n",
       "        });\n",
       "        require(['plotly'], function(Plotly) {\n",
       "            window._Plotly = Plotly;\n",
       "        });\n",
       "        }\n",
       "        </script>\n",
       "        "
      ]
     },
     "metadata": {},
     "output_type": "display_data"
    }
   ],
   "source": [
    "cf.go_offline()"
   ]
  },
  {
   "cell_type": "code",
   "execution_count": 10,
   "id": "251fce90",
   "metadata": {},
   "outputs": [],
   "source": [
    "df = pd.DataFrame(np.random.randn(100,4),columns='A B C D'.split())"
   ]
  },
  {
   "cell_type": "code",
   "execution_count": 11,
   "id": "d5409290",
   "metadata": {},
   "outputs": [
    {
     "data": {
      "text/html": [
       "<div>\n",
       "<style scoped>\n",
       "    .dataframe tbody tr th:only-of-type {\n",
       "        vertical-align: middle;\n",
       "    }\n",
       "\n",
       "    .dataframe tbody tr th {\n",
       "        vertical-align: top;\n",
       "    }\n",
       "\n",
       "    .dataframe thead th {\n",
       "        text-align: right;\n",
       "    }\n",
       "</style>\n",
       "<table border=\"1\" class=\"dataframe\">\n",
       "  <thead>\n",
       "    <tr style=\"text-align: right;\">\n",
       "      <th></th>\n",
       "      <th>A</th>\n",
       "      <th>B</th>\n",
       "      <th>C</th>\n",
       "      <th>D</th>\n",
       "    </tr>\n",
       "  </thead>\n",
       "  <tbody>\n",
       "    <tr>\n",
       "      <th>0</th>\n",
       "      <td>-0.895101</td>\n",
       "      <td>1.162233</td>\n",
       "      <td>-0.416666</td>\n",
       "      <td>-1.080775</td>\n",
       "    </tr>\n",
       "    <tr>\n",
       "      <th>1</th>\n",
       "      <td>-0.849975</td>\n",
       "      <td>-0.595789</td>\n",
       "      <td>-1.077267</td>\n",
       "      <td>-0.594749</td>\n",
       "    </tr>\n",
       "    <tr>\n",
       "      <th>2</th>\n",
       "      <td>-0.692597</td>\n",
       "      <td>0.035943</td>\n",
       "      <td>-0.207680</td>\n",
       "      <td>1.199818</td>\n",
       "    </tr>\n",
       "    <tr>\n",
       "      <th>3</th>\n",
       "      <td>-2.516708</td>\n",
       "      <td>0.803702</td>\n",
       "      <td>-2.110456</td>\n",
       "      <td>-1.126400</td>\n",
       "    </tr>\n",
       "    <tr>\n",
       "      <th>4</th>\n",
       "      <td>-0.037413</td>\n",
       "      <td>0.236599</td>\n",
       "      <td>-0.863699</td>\n",
       "      <td>-0.711575</td>\n",
       "    </tr>\n",
       "  </tbody>\n",
       "</table>\n",
       "</div>"
      ],
      "text/plain": [
       "          A         B         C         D\n",
       "0 -0.895101  1.162233 -0.416666 -1.080775\n",
       "1 -0.849975 -0.595789 -1.077267 -0.594749\n",
       "2 -0.692597  0.035943 -0.207680  1.199818\n",
       "3 -2.516708  0.803702 -2.110456 -1.126400\n",
       "4 -0.037413  0.236599 -0.863699 -0.711575"
      ]
     },
     "execution_count": 11,
     "metadata": {},
     "output_type": "execute_result"
    }
   ],
   "source": [
    "df.head()"
   ]
  },
  {
   "cell_type": "code",
   "execution_count": 12,
   "id": "9a3ef65c",
   "metadata": {},
   "outputs": [],
   "source": [
    "df2= pd.DataFrame({'Category':['A','B','C'],'Values':[32,43,50]})"
   ]
  },
  {
   "cell_type": "code",
   "execution_count": 13,
   "id": "e9c7198f",
   "metadata": {},
   "outputs": [
    {
     "data": {
      "text/html": [
       "<div>\n",
       "<style scoped>\n",
       "    .dataframe tbody tr th:only-of-type {\n",
       "        vertical-align: middle;\n",
       "    }\n",
       "\n",
       "    .dataframe tbody tr th {\n",
       "        vertical-align: top;\n",
       "    }\n",
       "\n",
       "    .dataframe thead th {\n",
       "        text-align: right;\n",
       "    }\n",
       "</style>\n",
       "<table border=\"1\" class=\"dataframe\">\n",
       "  <thead>\n",
       "    <tr style=\"text-align: right;\">\n",
       "      <th></th>\n",
       "      <th>Category</th>\n",
       "      <th>Values</th>\n",
       "    </tr>\n",
       "  </thead>\n",
       "  <tbody>\n",
       "    <tr>\n",
       "      <th>0</th>\n",
       "      <td>A</td>\n",
       "      <td>32</td>\n",
       "    </tr>\n",
       "    <tr>\n",
       "      <th>1</th>\n",
       "      <td>B</td>\n",
       "      <td>43</td>\n",
       "    </tr>\n",
       "    <tr>\n",
       "      <th>2</th>\n",
       "      <td>C</td>\n",
       "      <td>50</td>\n",
       "    </tr>\n",
       "  </tbody>\n",
       "</table>\n",
       "</div>"
      ],
      "text/plain": [
       "  Category  Values\n",
       "0        A      32\n",
       "1        B      43\n",
       "2        C      50"
      ]
     },
     "execution_count": 13,
     "metadata": {},
     "output_type": "execute_result"
    }
   ],
   "source": [
    "df2.head()"
   ]
  },
  {
   "cell_type": "code",
   "execution_count": 14,
   "id": "f91d1ca9",
   "metadata": {},
   "outputs": [
    {
     "ename": "AttributeError",
     "evalue": "'function' object has no attribute 'scatter'",
     "output_type": "error",
     "traceback": [
      "\u001b[1;31m---------------------------------------------------------------------------\u001b[0m",
      "\u001b[1;31mAttributeError\u001b[0m                            Traceback (most recent call last)",
      "Input \u001b[1;32mIn [14]\u001b[0m, in \u001b[0;36m<cell line: 1>\u001b[1;34m()\u001b[0m\n\u001b[1;32m----> 1\u001b[0m \u001b[43mdf2\u001b[49m\u001b[38;5;241;43m.\u001b[39;49m\u001b[43miplot\u001b[49m\u001b[38;5;241;43m.\u001b[39;49m\u001b[43mscatter\u001b[49m(x\u001b[38;5;241m=\u001b[39m\u001b[38;5;124m'\u001b[39m\u001b[38;5;124mCategory\u001b[39m\u001b[38;5;124m'\u001b[39m,y\u001b[38;5;241m=\u001b[39m\u001b[38;5;124m'\u001b[39m\u001b[38;5;124mValues\u001b[39m\u001b[38;5;124m'\u001b[39m)\n",
      "\u001b[1;31mAttributeError\u001b[0m: 'function' object has no attribute 'scatter'"
     ]
    }
   ],
   "source": [
    "df2.iplot.scatter(x='Category',y='Values')"
   ]
  },
  {
   "cell_type": "markdown",
   "id": "11310d3f",
   "metadata": {},
   "source": [
    "# Using the iplot\n",
    "iplot is command which makes out plot interactive\n",
    "\n",
    "it plots a linr graph by default\n",
    "\n",
    "the plot is made interactive by using Java Scrip which is imported as an offline module using plotly"
   ]
  },
  {
   "cell_type": "code",
   "execution_count": null,
   "id": "60627f8b",
   "metadata": {},
   "outputs": [],
   "source": [
    "df.iplot()"
   ]
  },
  {
   "cell_type": "markdown",
   "id": "f3530c3f",
   "metadata": {},
   "source": [
    "# How to plot different plots using .iplot()\n",
    "\n",
    "df_name.iplot(kind=  \" the kind of graph you wanna plot  \", mode=  \" the type of mode you wanna plot the points as  \", size=num)"
   ]
  },
  {
   "cell_type": "code",
   "execution_count": null,
   "id": "0719de72",
   "metadata": {},
   "outputs": [],
   "source": [
    "df2.iplot(kind='bar',x='Category',y='Values')"
   ]
  },
  {
   "cell_type": "code",
   "execution_count": null,
   "id": "912b903f",
   "metadata": {},
   "outputs": [],
   "source": [
    "df.iplot(kind='scatter',x='A',y='B',mode='markers')"
   ]
  },
  {
   "cell_type": "markdown",
   "id": "44b9dc8b",
   "metadata": {},
   "source": [
    "# Creating a surface plot (3D plot)\n",
    "\n",
    "it requires 3 dimensions one for each direction"
   ]
  },
  {
   "cell_type": "code",
   "execution_count": null,
   "id": "6674fd89",
   "metadata": {},
   "outputs": [],
   "source": [
    "df3=pd.DataFrame({'x':[1,2,4,6],'y':[10,20,30,40],'z':[1,2,4,5]})"
   ]
  },
  {
   "cell_type": "code",
   "execution_count": null,
   "id": "b315c106",
   "metadata": {},
   "outputs": [],
   "source": [
    "df3"
   ]
  },
  {
   "cell_type": "code",
   "execution_count": null,
   "id": "86b19150",
   "metadata": {},
   "outputs": [],
   "source": [
    "df3.iplot(kind='surface')"
   ]
  },
  {
   "cell_type": "markdown",
   "id": "3cbf65f1",
   "metadata": {},
   "source": [
    "# using a spread\n",
    "\n",
    "it is mainly used in the stock market for studying the pattern of stock prices and several other utilites"
   ]
  },
  {
   "cell_type": "code",
   "execution_count": null,
   "id": "a6f870b4",
   "metadata": {},
   "outputs": [],
   "source": [
    "df[['A','B']].iplot(kind='spread')"
   ]
  },
  {
   "cell_type": "markdown",
   "id": "d421709c",
   "metadata": {},
   "source": [
    "# Using histograms"
   ]
  },
  {
   "cell_type": "code",
   "execution_count": null,
   "id": "2718205f",
   "metadata": {},
   "outputs": [],
   "source": [
    "df['A'].iplot(kind='hist',bins=25)"
   ]
  },
  {
   "cell_type": "markdown",
   "id": "ef5443f9",
   "metadata": {},
   "source": [
    "# bubble scatter plot\n",
    "\n",
    "these are scatter plots where you add in a anothe column as the third dimension and use em for size\n",
    "\n",
    "for example we are using the column C as the third scale for size in the below laid plot\n",
    "\n",
    "in order to implement the third dimension we use another attribute called: SIZE\n",
    "\n",
    "syntax: df_name.iplot(kind=  'scatter', x='  set_X_column  ', y=  'set_y_column' , size= ' set another column for size of the bubbles')"
   ]
  },
  {
   "cell_type": "code",
   "execution_count": null,
   "id": "51b6e2a1",
   "metadata": {},
   "outputs": [],
   "source": [
    "df.iplot(kind='scatter',x='A',y='B',mode='markers')\n",
    "# this is a scatter plot with mode as markers"
   ]
  },
  {
   "cell_type": "code",
   "execution_count": null,
   "id": "0e417e49",
   "metadata": {},
   "outputs": [],
   "source": [
    "df.iplot(kind='bubble',x='A',y='B',size='C')\n",
    "# this is a bubble plot which uses C column in our data frame for size"
   ]
  },
  {
   "cell_type": "markdown",
   "id": "1d25f23f",
   "metadata": {},
   "source": [
    "# scatter_matrix\n",
    "\n",
    "simillar to pairplot in sns\n",
    "\n",
    "can take time to proceed if data is big"
   ]
  },
  {
   "cell_type": "code",
   "execution_count": null,
   "id": "754a0f7e",
   "metadata": {},
   "outputs": [],
   "source": [
    "df.scatter_matrix()"
   ]
  },
  {
   "cell_type": "code",
   "execution_count": null,
   "id": "53f77fad",
   "metadata": {},
   "outputs": [],
   "source": []
  },
  {
   "cell_type": "code",
   "execution_count": null,
   "id": "657cce69",
   "metadata": {},
   "outputs": [],
   "source": []
  },
  {
   "cell_type": "code",
   "execution_count": null,
   "id": "c183940e",
   "metadata": {},
   "outputs": [],
   "source": []
  },
  {
   "cell_type": "code",
   "execution_count": null,
   "id": "739792ee",
   "metadata": {},
   "outputs": [],
   "source": []
  },
  {
   "cell_type": "code",
   "execution_count": null,
   "id": "d9559a0a",
   "metadata": {},
   "outputs": [],
   "source": []
  },
  {
   "cell_type": "code",
   "execution_count": null,
   "id": "bfd5382c",
   "metadata": {},
   "outputs": [],
   "source": []
  },
  {
   "cell_type": "code",
   "execution_count": null,
   "id": "3ffaf7c9",
   "metadata": {},
   "outputs": [],
   "source": []
  },
  {
   "cell_type": "code",
   "execution_count": null,
   "id": "a9fd0411",
   "metadata": {},
   "outputs": [],
   "source": []
  }
 ],
 "metadata": {
  "kernelspec": {
   "display_name": "Python 3 (ipykernel)",
   "language": "python",
   "name": "python3"
  },
  "language_info": {
   "codemirror_mode": {
    "name": "ipython",
    "version": 3
   },
   "file_extension": ".py",
   "mimetype": "text/x-python",
   "name": "python",
   "nbconvert_exporter": "python",
   "pygments_lexer": "ipython3",
   "version": "3.9.12"
  }
 },
 "nbformat": 4,
 "nbformat_minor": 5
}
